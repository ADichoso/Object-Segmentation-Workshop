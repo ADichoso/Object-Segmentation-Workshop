{
 "cells": [
  {
   "cell_type": "markdown",
   "id": "daae8053",
   "metadata": {},
   "source": [
    "# Training an Object Segmentation Workshop\n",
    "By: Aaron Gabrielle C. Dichoso\n",
    "From: DLSU - Center of Imaging and Visual Innovations (CIVI)\n",
    "May 27, 2025"
   ]
  },
  {
   "cell_type": "code",
   "execution_count": null,
   "id": "a59b56f1",
   "metadata": {},
   "outputs": [],
   "source": [
    "import torch\n",
    "import torchvision\n",
    "from torchvision.datasets import CocoDetection\n",
    "from torchvision.models.segmentation import fcn_resnet50\n",
    "from torchvision.transforms import functional as F\n",
    "from torch.utils.data import DataLoader\n",
    "import os\n",
    "import numpy as np\n",
    "import matplotlib.pyplot as plt\n",
    "from PIL import Image"
   ]
  }
 ],
 "metadata": {
  "kernelspec": {
   "display_name": "base",
   "language": "python",
   "name": "python3"
  },
  "language_info": {
   "name": "python",
   "version": "3.11.7"
  }
 },
 "nbformat": 4,
 "nbformat_minor": 5
}
